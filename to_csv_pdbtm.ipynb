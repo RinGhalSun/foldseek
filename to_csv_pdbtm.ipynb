{
 "cells": [
  {
   "cell_type": "code",
   "execution_count": 18,
   "metadata": {},
   "outputs": [],
   "source": [
    "import os\n",
    "import csv\n",
    "import pandas as pd\n",
    "\n",
    "def process_txt_files(file_paths, output_csv):\n",
    "    data = []\n",
    "    \n",
    "    for file_path in file_paths:\n",
    "        with open(file_path, 'r') as file:\n",
    "            lines = file.readlines()\n",
    "        \n",
    "        max_pdb_tm = -1\n",
    "        pdb_name = \"\"\n",
    "        pdb_id = \"\"\n",
    "        \n",
    "        for line in lines:\n",
    "            parts = line.strip().split('\\t')\n",
    "            current_pdb_name = parts[0]\n",
    "            current_pdb_id = parts[1]\n",
    "            pdb_tm = float(parts[2])\n",
    "            \n",
    "            if pdb_tm > max_pdb_tm:\n",
    "                max_pdb_tm = pdb_tm\n",
    "                pdb_name = current_pdb_name\n",
    "                pdb_id = current_pdb_id\n",
    "        \n",
    "        max_pdb_tm = round(max_pdb_tm, 4)\n",
    "        \n",
    "        data.append([pdb_name, pdb_id, max_pdb_tm])\n",
    "    \n",
    "    with open(output_csv, 'w', newline='') as csvfile:\n",
    "        csvwriter = csv.writer(csvfile)\n",
    "        csvwriter.writerow(['PDB_Name', 'PDB_ID', 'Max_PDB_TM'])\n",
    "        csvwriter.writerows(data)\n"
   ]
  },
  {
   "cell_type": "code",
   "execution_count": 28,
   "metadata": {},
   "outputs": [],
   "source": [
    "folder_path = 'results_test_baseline'\n",
    "output_csv = 'max_pdb_tm_baseline.csv'\n",
    "txt_files = [os.path.join(folder_path, file) for file in os.listdir(folder_path) if file.endswith('.txt')]\n",
    "\n",
    "process_txt_files(txt_files, output_csv)"
   ]
  },
  {
   "cell_type": "code",
   "execution_count": 32,
   "metadata": {},
   "outputs": [],
   "source": [
    "df1 = pd.read_csv('max_pdb_tm_baseline.csv')\n",
    "df2 = pd.read_csv('selected_proteins_baseline.csv')\n",
    "\n",
    "df1['PDB_Name'] = df1['PDB_Name'].str.replace('.pdb', '')\n",
    "\n",
    "merged_df = df1.merge(df2, left_on='PDB_Name', right_on='Name', how='inner')\n",
    "\n",
    "result_df = merged_df[['PDB_Name', 'PDB_ID', 'Max_PDB_TM', 'RMSD', 'TM_Score']]\n",
    "\n",
    "result_df.to_csv('full_result_baseline.csv', index=False)\n"
   ]
  },
  {
   "cell_type": "code",
   "execution_count": 35,
   "metadata": {},
   "outputs": [],
   "source": [
    "df = pd.read_csv('full_result_baseline.csv')\n",
    "\n",
    "df['Length'] = df['PDB_Name'].str.extract(r'length_(\\d{3})').astype(int)\n",
    "\n",
    "df.to_csv('full_result_baseline.csv', index=False)\n"
   ]
  },
  {
   "cell_type": "code",
   "execution_count": 36,
   "metadata": {},
   "outputs": [],
   "source": [
    "folder_path = 'results_test_baseline_alntmscore'\n",
    "output_csv = 'max_pdb_tm_baseline_alntmscore.csv'\n",
    "txt_files = [os.path.join(folder_path, file) for file in os.listdir(folder_path) if file.endswith('.txt')]\n",
    "\n",
    "process_txt_files(txt_files, output_csv)"
   ]
  },
  {
   "cell_type": "code",
   "execution_count": 37,
   "metadata": {},
   "outputs": [],
   "source": [
    "df1 = pd.read_csv('max_pdb_tm_baseline_alntmscore.csv')\n",
    "df2 = pd.read_csv('selected_proteins_baseline.csv')\n",
    "\n",
    "df1['PDB_Name'] = df1['PDB_Name'].str.replace('.pdb', '')\n",
    "\n",
    "merged_df = df1.merge(df2, left_on='PDB_Name', right_on='Name', how='inner')\n",
    "\n",
    "result_df = merged_df[['PDB_Name', 'PDB_ID', 'Max_PDB_TM', 'RMSD', 'TM_Score']]\n",
    "\n",
    "result_df.to_csv('full_result_baseline_alntmscore.csv', index=False)\n"
   ]
  },
  {
   "cell_type": "code",
   "execution_count": 38,
   "metadata": {},
   "outputs": [],
   "source": [
    "df = pd.read_csv('full_result_baseline_alntmscore.csv')\n",
    "\n",
    "df['Length'] = df['PDB_Name'].str.extract(r'length_(\\d{3})').astype(int)\n",
    "\n",
    "df.to_csv('full_result_baseline_alntmscore.csv', index=False)\n"
   ]
  },
  {
   "cell_type": "code",
   "execution_count": null,
   "metadata": {},
   "outputs": [],
   "source": []
  }
 ],
 "metadata": {
  "kernelspec": {
   "display_name": "foldseek",
   "language": "python",
   "name": "python3"
  },
  "language_info": {
   "codemirror_mode": {
    "name": "ipython",
    "version": 3
   },
   "file_extension": ".py",
   "mimetype": "text/x-python",
   "name": "python",
   "nbconvert_exporter": "python",
   "pygments_lexer": "ipython3",
   "version": "3.11.5"
  },
  "orig_nbformat": 4
 },
 "nbformat": 4,
 "nbformat_minor": 2
}
